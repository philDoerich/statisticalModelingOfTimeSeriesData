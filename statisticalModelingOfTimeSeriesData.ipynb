{
 "cells": [
  {
   "cell_type": "code",
   "execution_count": 3,
   "id": "12c573c5-abd1-4426-86f2-9a3f76c2087d",
   "metadata": {},
   "outputs": [
    {
     "name": "stdout",
     "output_type": "stream",
     "text": [
      "[*********************100%***********************]  1 of 1 completed\n"
     ]
    }
   ],
   "source": [
    "import pandas as pd\n",
    "import numpy as np\n",
    "\n",
    "import matplotlib.pyplot as plt\n",
    "import seaborn as sns\n",
    "sns.set()\n",
    "\n",
    "import yfinance\n",
    "\n",
    "raw_data = yfinance.download (tickers = \"^GSPC\", start = \"1994-01-07\", \n",
    "                              end = \"2019-09-01\", interval = \"1d\")"
   ]
  },
  {
   "cell_type": "code",
   "execution_count": null,
   "id": "395ae57a-9699-4c09-b9ec-59d760697c92",
   "metadata": {},
   "outputs": [],
   "source": []
  }
 ],
 "metadata": {
  "kernelspec": {
   "display_name": "envKernel",
   "language": "python",
   "name": "envkernel"
  },
  "language_info": {
   "codemirror_mode": {
    "name": "ipython",
    "version": 3
   },
   "file_extension": ".py",
   "mimetype": "text/x-python",
   "name": "python",
   "nbconvert_exporter": "python",
   "pygments_lexer": "ipython3",
   "version": "3.9.5"
  }
 },
 "nbformat": 4,
 "nbformat_minor": 5
}
