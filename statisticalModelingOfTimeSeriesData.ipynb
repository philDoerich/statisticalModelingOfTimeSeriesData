{
 "cells": [
  {
   "cell_type": "markdown",
   "id": "edf610e1-4a9e-4acc-b862-ee2b2e5fab4a",
   "metadata": {},
   "source": [
    "<h3>Get Data from Yahoo Finance</h3>\n",
    "\n",
    "Python prvides a library ***yfinance***. With yfinance one can get stock price data for different time intervals."
   ]
  },
  {
   "cell_type": "code",
   "execution_count": 2,
   "id": "12c573c5-abd1-4426-86f2-9a3f76c2087d",
   "metadata": {},
   "outputs": [
    {
     "name": "stdout",
     "output_type": "stream",
     "text": [
      "[*********************100%***********************]  1 of 1 completed\n"
     ]
    }
   ],
   "source": [
    "import pandas as pd\n",
    "import numpy as np\n",
    "\n",
    "import matplotlib.pyplot as plt\n",
    "import seaborn as sns\n",
    "sns.set()\n",
    "\n",
    "import yfinance\n",
    "\n",
    "raw_data = yfinance.download (tickers = \"^GSPC\", start = \"1994-01-07\", \n",
    "                              end = \"2019-09-01\", interval = \"1d\")"
   ]
  },
  {
   "cell_type": "markdown",
   "id": "a80d1235-12a4-45b9-8546-08ab36186157",
   "metadata": {},
   "source": [
    "Now let's have a look at the data. We will check the first and the last five rows of the data by using the ***head()*** and ***tail()*** functions."
   ]
  },
  {
   "cell_type": "code",
   "execution_count": 7,
   "id": "3a324379-de3c-4753-88aa-e364d1367224",
   "metadata": {},
   "outputs": [
    {
     "data": {
      "text/html": [
       "<div>\n",
       "<style scoped>\n",
       "    .dataframe tbody tr th:only-of-type {\n",
       "        vertical-align: middle;\n",
       "    }\n",
       "\n",
       "    .dataframe tbody tr th {\n",
       "        vertical-align: top;\n",
       "    }\n",
       "\n",
       "    .dataframe thead th {\n",
       "        text-align: right;\n",
       "    }\n",
       "</style>\n",
       "<table border=\"1\" class=\"dataframe\">\n",
       "  <thead>\n",
       "    <tr style=\"text-align: right;\">\n",
       "      <th></th>\n",
       "      <th>Open</th>\n",
       "      <th>High</th>\n",
       "      <th>Low</th>\n",
       "      <th>Close</th>\n",
       "      <th>Adj Close</th>\n",
       "      <th>Volume</th>\n",
       "    </tr>\n",
       "    <tr>\n",
       "      <th>Date</th>\n",
       "      <th></th>\n",
       "      <th></th>\n",
       "      <th></th>\n",
       "      <th></th>\n",
       "      <th></th>\n",
       "      <th></th>\n",
       "    </tr>\n",
       "  </thead>\n",
       "  <tbody>\n",
       "    <tr>\n",
       "      <th>1994-01-06</th>\n",
       "      <td>467.549988</td>\n",
       "      <td>469.000000</td>\n",
       "      <td>467.019989</td>\n",
       "      <td>467.119995</td>\n",
       "      <td>467.119995</td>\n",
       "      <td>365960000</td>\n",
       "    </tr>\n",
       "    <tr>\n",
       "      <th>1994-01-07</th>\n",
       "      <td>467.089996</td>\n",
       "      <td>470.260010</td>\n",
       "      <td>467.029999</td>\n",
       "      <td>469.899994</td>\n",
       "      <td>469.899994</td>\n",
       "      <td>324920000</td>\n",
       "    </tr>\n",
       "    <tr>\n",
       "      <th>1994-01-10</th>\n",
       "      <td>469.899994</td>\n",
       "      <td>475.269989</td>\n",
       "      <td>469.549988</td>\n",
       "      <td>475.269989</td>\n",
       "      <td>475.269989</td>\n",
       "      <td>319490000</td>\n",
       "    </tr>\n",
       "    <tr>\n",
       "      <th>1994-01-11</th>\n",
       "      <td>475.269989</td>\n",
       "      <td>475.279999</td>\n",
       "      <td>473.269989</td>\n",
       "      <td>474.130005</td>\n",
       "      <td>474.130005</td>\n",
       "      <td>305490000</td>\n",
       "    </tr>\n",
       "    <tr>\n",
       "      <th>1994-01-12</th>\n",
       "      <td>474.130005</td>\n",
       "      <td>475.059998</td>\n",
       "      <td>472.140015</td>\n",
       "      <td>474.170013</td>\n",
       "      <td>474.170013</td>\n",
       "      <td>310690000</td>\n",
       "    </tr>\n",
       "  </tbody>\n",
       "</table>\n",
       "</div>"
      ],
      "text/plain": [
       "                  Open        High         Low       Close   Adj Close  \\\n",
       "Date                                                                     \n",
       "1994-01-06  467.549988  469.000000  467.019989  467.119995  467.119995   \n",
       "1994-01-07  467.089996  470.260010  467.029999  469.899994  469.899994   \n",
       "1994-01-10  469.899994  475.269989  469.549988  475.269989  475.269989   \n",
       "1994-01-11  475.269989  475.279999  473.269989  474.130005  474.130005   \n",
       "1994-01-12  474.130005  475.059998  472.140015  474.170013  474.170013   \n",
       "\n",
       "               Volume  \n",
       "Date                   \n",
       "1994-01-06  365960000  \n",
       "1994-01-07  324920000  \n",
       "1994-01-10  319490000  \n",
       "1994-01-11  305490000  \n",
       "1994-01-12  310690000  "
      ]
     },
     "execution_count": 7,
     "metadata": {},
     "output_type": "execute_result"
    }
   ],
   "source": [
    "raw_data.head()"
   ]
  },
  {
   "cell_type": "code",
   "execution_count": 8,
   "id": "bf1f9f74-1c20-48ac-935e-f6b538c9e984",
   "metadata": {},
   "outputs": [
    {
     "data": {
      "text/html": [
       "<div>\n",
       "<style scoped>\n",
       "    .dataframe tbody tr th:only-of-type {\n",
       "        vertical-align: middle;\n",
       "    }\n",
       "\n",
       "    .dataframe tbody tr th {\n",
       "        vertical-align: top;\n",
       "    }\n",
       "\n",
       "    .dataframe thead th {\n",
       "        text-align: right;\n",
       "    }\n",
       "</style>\n",
       "<table border=\"1\" class=\"dataframe\">\n",
       "  <thead>\n",
       "    <tr style=\"text-align: right;\">\n",
       "      <th></th>\n",
       "      <th>Open</th>\n",
       "      <th>High</th>\n",
       "      <th>Low</th>\n",
       "      <th>Close</th>\n",
       "      <th>Adj Close</th>\n",
       "      <th>Volume</th>\n",
       "    </tr>\n",
       "    <tr>\n",
       "      <th>Date</th>\n",
       "      <th></th>\n",
       "      <th></th>\n",
       "      <th></th>\n",
       "      <th></th>\n",
       "      <th></th>\n",
       "      <th></th>\n",
       "    </tr>\n",
       "  </thead>\n",
       "  <tbody>\n",
       "    <tr>\n",
       "      <th>2019-08-26</th>\n",
       "      <td>2866.699951</td>\n",
       "      <td>2879.270020</td>\n",
       "      <td>2856.000000</td>\n",
       "      <td>2878.379883</td>\n",
       "      <td>2878.379883</td>\n",
       "      <td>2857600000</td>\n",
       "    </tr>\n",
       "    <tr>\n",
       "      <th>2019-08-27</th>\n",
       "      <td>2893.139893</td>\n",
       "      <td>2898.790039</td>\n",
       "      <td>2860.590088</td>\n",
       "      <td>2869.159912</td>\n",
       "      <td>2869.159912</td>\n",
       "      <td>3533630000</td>\n",
       "    </tr>\n",
       "    <tr>\n",
       "      <th>2019-08-28</th>\n",
       "      <td>2861.280029</td>\n",
       "      <td>2890.030029</td>\n",
       "      <td>2853.050049</td>\n",
       "      <td>2887.939941</td>\n",
       "      <td>2887.939941</td>\n",
       "      <td>3097420000</td>\n",
       "    </tr>\n",
       "    <tr>\n",
       "      <th>2019-08-29</th>\n",
       "      <td>2910.370117</td>\n",
       "      <td>2930.500000</td>\n",
       "      <td>2905.669922</td>\n",
       "      <td>2924.580078</td>\n",
       "      <td>2924.580078</td>\n",
       "      <td>3176190000</td>\n",
       "    </tr>\n",
       "    <tr>\n",
       "      <th>2019-08-30</th>\n",
       "      <td>2937.090088</td>\n",
       "      <td>2940.429932</td>\n",
       "      <td>2913.320068</td>\n",
       "      <td>2926.459961</td>\n",
       "      <td>2926.459961</td>\n",
       "      <td>3008450000</td>\n",
       "    </tr>\n",
       "  </tbody>\n",
       "</table>\n",
       "</div>"
      ],
      "text/plain": [
       "                   Open         High          Low        Close    Adj Close  \\\n",
       "Date                                                                          \n",
       "2019-08-26  2866.699951  2879.270020  2856.000000  2878.379883  2878.379883   \n",
       "2019-08-27  2893.139893  2898.790039  2860.590088  2869.159912  2869.159912   \n",
       "2019-08-28  2861.280029  2890.030029  2853.050049  2887.939941  2887.939941   \n",
       "2019-08-29  2910.370117  2930.500000  2905.669922  2924.580078  2924.580078   \n",
       "2019-08-30  2937.090088  2940.429932  2913.320068  2926.459961  2926.459961   \n",
       "\n",
       "                Volume  \n",
       "Date                    \n",
       "2019-08-26  2857600000  \n",
       "2019-08-27  3533630000  \n",
       "2019-08-28  3097420000  \n",
       "2019-08-29  3176190000  \n",
       "2019-08-30  3008450000  "
      ]
     },
     "execution_count": 8,
     "metadata": {},
     "output_type": "execute_result"
    }
   ],
   "source": [
    "raw_data.tail()"
   ]
  },
  {
   "cell_type": "markdown",
   "id": "015ae548-c008-4b07-a223-2e293d0effb2",
   "metadata": {},
   "source": [
    "<h3>Extrcting relevant series</h3>\n",
    "\n",
    "Now we extract the ***closing-prices*** of the series, because these are relevant for our analysis."
   ]
  },
  {
   "cell_type": "code",
   "execution_count": 9,
   "id": "7a4262c3-9f69-44cb-8b28-d48d8e86dc94",
   "metadata": {},
   "outputs": [],
   "source": [
    "# Create a new dataframe with one column \"spx\"\n",
    "data = pd.DataFrame(columns = [\"spx\"])\n",
    "# Copy closing prices of S&P 500 to this new column\n",
    "data[\"spx\"] = raw_data[\"Close\"]\n",
    "# Ensure that the dates are ordered in business week fashion (5 days a week)\n",
    "data = data.asfreq(\"b\")"
   ]
  },
  {
   "cell_type": "markdown",
   "id": "2bc88fcb-0f72-44fc-a3cc-711dd2deca21",
   "metadata": {},
   "source": [
    "<h3>Handling missing values</h3>\n",
    "\n",
    "It's very important to check if there are any missing values in the dataset. The way these missing values are filled can have a huge impact on the trend."
   ]
  },
  {
   "cell_type": "code",
   "execution_count": 10,
   "id": "8a156611-55bb-44ff-82bd-34db0f73a0eb",
   "metadata": {},
   "outputs": [
    {
     "name": "stdout",
     "output_type": "stream",
     "text": [
      "Null values -  233\n",
      "\n",
      "Statistical Description of the series - \n",
      "               spx\n",
      "count  6459.000000\n",
      "mean   1380.614234\n",
      "std     595.236124\n",
      "min     438.920013\n",
      "25%    1023.675018\n",
      "50%    1263.819946\n",
      "75%    1562.484985\n",
      "max    3025.860107\n",
      "\n",
      "Null values -  0\n"
     ]
    }
   ],
   "source": [
    "print(\"Null values - \", data.spx.isnull().sum())\n",
    "\n",
    "print(\"\\nStatistical Description of the series - \")\n",
    "print(data.describe())\n",
    "\n",
    "data.spx = data.spx.fillna(method='ffill')\n",
    "print(\"\\nNull values - \", data.spx.isnull().sum())"
   ]
  },
  {
   "cell_type": "code",
   "execution_count": null,
   "id": "cac5725d-1730-46e1-a988-9efcd7df7246",
   "metadata": {},
   "outputs": [],
   "source": []
  }
 ],
 "metadata": {
  "kernelspec": {
   "display_name": "envKernel",
   "language": "python",
   "name": "envkernel"
  },
  "language_info": {
   "codemirror_mode": {
    "name": "ipython",
    "version": 3
   },
   "file_extension": ".py",
   "mimetype": "text/x-python",
   "name": "python",
   "nbconvert_exporter": "python",
   "pygments_lexer": "ipython3",
   "version": "3.9.5"
  }
 },
 "nbformat": 4,
 "nbformat_minor": 5
}
